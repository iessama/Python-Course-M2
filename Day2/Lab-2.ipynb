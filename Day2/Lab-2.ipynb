{
 "cells": [
  {
   "cell_type": "code",
   "execution_count": null,
   "metadata": {},
   "outputs": [],
   "source": [
    "# Charger et analyser le fichier notebook (nouvelle version de Lab2.ipynb)\n",
    "notebook_path_lab2_new = \"/home/imss/Python-Course-M2/Day2/Lab-2.ipynb\"\n",
    "\n",
    "with open(notebook_path_lab2_new, \"r\", encoding=\"utf-8\") as f:\n",
    "    notebook_data_lab2_new = nbformat.read(f, as_version=4)\n",
    "\n",
    "# Extraire les cellules de code et de texte\n",
    "cells_lab2_new = notebook_data_lab2_new[\"cells\"]\n",
    "\n",
    "notebook_content_lab2_new = {\"code\": [], \"markdown\": []}\n",
    "\n",
    "for cell in cells_lab2_new:\n",
    "    if cell[\"cell_type\"] == \"code\":\n",
    "        notebook_content_lab2_new[\"code\"].append(cell[\"source\"])\n",
    "    elif cell[\"cell_type\"] == \"markdown\":\n",
    "        notebook_content_lab2_new[\"markdown\"].append(cell[\"source\"])\n",
    "\n",
    "notebook_content_lab2_new\n"
   ]
  }
 ],
 "metadata": {
  "language_info": {
   "name": "python"
  }
 },
 "nbformat": 4,
 "nbformat_minor": 2
}
